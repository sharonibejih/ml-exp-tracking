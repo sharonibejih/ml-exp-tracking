{
 "cells": [
  {
   "cell_type": "markdown",
   "metadata": {},
   "source": [
    "## Machine Learning and Experiment Tracking"
   ]
  },
  {
   "cell_type": "markdown",
   "metadata": {},
   "source": [
    "> __Prep__:\n",
    "> - For Windows users, install git bash if you do not have that already.<br><br>\n",
    "> - Create a Python environment: `conda create -n env-name` or `python -m venv env-name`<br><br>\n",
    "> - Activate the environment: `conda activate env-name` or `source env-name/Scripts/activate`.<br><br>\n",
    "> - Open your Jupyter Notebook locally (i.e from Anaconda, VSCode or any other IDE that you can access locally, which you are comfortable with).<br><br>\n",
    "\n"
   ]
  },
  {
   "cell_type": "code",
   "execution_count": null,
   "metadata": {},
   "outputs": [],
   "source": []
  }
 ],
 "metadata": {
  "language_info": {
   "name": "python"
  },
  "orig_nbformat": 4
 },
 "nbformat": 4,
 "nbformat_minor": 2
}
